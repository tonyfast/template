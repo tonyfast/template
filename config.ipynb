{
 "cells": [
  {
   "cell_type": "markdown",
   "metadata": {},
   "source": [
    "# A Pure Configuration Approach to Docs"
   ]
  },
  {
   "cell_type": "markdown",
   "metadata": {},
   "source": [
    "Rely on `nbformat` for the schema."
   ]
  },
  {
   "cell_type": "markdown",
   "metadata": {},
   "source": [
    "## Helpers\n",
    "\n",
    "Helpers to create new notebooks and cells"
   ]
  },
  {
   "cell_type": "code",
   "execution_count": 1,
   "metadata": {},
   "outputs": [],
   "source": [
    "from nbd import *\n",
    "c = globals().get('c', __import__('traitlets').config.Config())"
   ]
  },
  {
   "cell_type": "markdown",
   "metadata": {},
   "source": [
    "## Data Object\n",
    "\n",
    "### Using a template notebook"
   ]
  },
  {
   "cell_type": "code",
   "execution_count": 2,
   "metadata": {},
   "outputs": [],
   "source": [
    "with open('template.ipynb') as f:\n",
    "    data = reads(f.read(), 4)\n",
    "last = data.cells.pop(-1)"
   ]
  },
  {
   "cell_type": "markdown",
   "metadata": {},
   "source": [
    "The next steps will configure a report."
   ]
  },
  {
   "cell_type": "markdown",
   "metadata": {},
   "source": [
    "## Creating custom reports\n",
    "\n",
    "`nbd` requires a generator function that returns the `filename, notebook`; the `notebook` is written to the file name."
   ]
  },
  {
   "cell_type": "code",
   "execution_count": 3,
   "metadata": {},
   "outputs": [],
   "source": [
    "def report():\n",
    "    data.cells.append(markdown(\"\"\"### [Schema](schema.html)\"\"\"))\n",
    "    data.cells.append(last)\n",
    "    yield 'index', data\n",
    "    yield 'uml', notebook(cells=[\n",
    "        markdown(\"\"\"# UML diagram\"\"\"),\n",
    "        markdown(\"\"\"![classes_nbd.png](classes_nbd.png)\"\"\")])"
   ]
  },
  {
   "cell_type": "markdown",
   "metadata": {},
   "source": [
    "## A simple index."
   ]
  },
  {
   "cell_type": "code",
   "execution_count": 4,
   "metadata": {},
   "outputs": [],
   "source": [
    "from nbd import index\n",
    "c.FilesWriter.build_directory = 'docs'\n",
    "c.Docs.update(\n",
    "    report=report,\n",
    "    post=index(data),\n",
    "    notebooks=[\n",
    "        'nbd.ipynb',\n",
    "        'config.ipynb',\n",
    "        'config.py',\n",
    "        'template.ipynb',\n",
    "        'readme.md', 'flake8.txt'])"
   ]
  }
 ],
 "metadata": {
  "kernelspec": {
   "display_name": "Python 3",
   "language": "python",
   "name": "python3"
  },
  "language_info": {
   "codemirror_mode": {
    "name": "ipython",
    "version": 3
   },
   "file_extension": ".py",
   "mimetype": "text/x-python",
   "name": "python",
   "nbconvert_exporter": "python",
   "pygments_lexer": "ipython3",
   "version": "3.5.3"
  }
 },
 "nbformat": 4,
 "nbformat_minor": 2
}
